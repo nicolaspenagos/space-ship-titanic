{
 "cells": [
  {
   "cell_type": "markdown",
   "id": "diagnostic-failing",
   "metadata": {},
   "source": [
    "Integrantes\n",
    "\n",
    "+ Nicolás Penagos, A00347293\n"
   ]
  },
  {
   "cell_type": "markdown",
   "id": "sorted-studio",
   "metadata": {},
   "source": [
    "# Revisar material\n",
    "\n",
    "Se presenta el material donde se explica el uso de Dash, Flask y Plotly para el desarrollo de aplicaciones web con Python"
   ]
  },
  {
   "cell_type": "code",
   "execution_count": 1,
   "id": "serious-rendering",
   "metadata": {
    "scrolled": true
   },
   "outputs": [
    {
     "name": "stderr",
     "output_type": "stream",
     "text": [
      "/Users/nicolaspenagos/opt/anaconda3/lib/python3.9/site-packages/IPython/core/display.py:419: UserWarning: Consider using IPython.display.IFrame instead\n",
      "  warnings.warn(\"Consider using IPython.display.IFrame instead\")\n"
     ]
    },
    {
     "data": {
      "text/html": [
       "<iframe width=\"1536\" height=\"864\" src=\"https://www.youtube.com/embed/1A5zFVYPvVQ\" title=\"YouTube video player\" frameborder=\"0\" allow=\"accelerometer; autoplay; clipboard-write; encrypted-media; gyroscope; picture-in-picture\" allowfullscreen></iframe>"
      ],
      "text/plain": [
       "<IPython.core.display.HTML object>"
      ]
     },
     "execution_count": 1,
     "metadata": {},
     "output_type": "execute_result"
    }
   ],
   "source": [
    "from IPython.display import HTML\n",
    "\n",
    "HTML('<iframe width=\"1536\" height=\"864\" src=\"https://www.youtube.com/embed/1A5zFVYPvVQ\" title=\"YouTube video player\" frameborder=\"0\" allow=\"accelerometer; autoplay; clipboard-write; encrypted-media; gyroscope; picture-in-picture\" allowfullscreen></iframe>')\n"
   ]
  },
  {
   "cell_type": "markdown",
   "id": "charming-adoption",
   "metadata": {},
   "source": [
    "# Actividades\n"
   ]
  },
  {
   "cell_type": "markdown",
   "id": "absent-speaker",
   "metadata": {},
   "source": [
    "## Exploración"
   ]
  },
  {
   "cell_type": "markdown",
   "id": "peaceful-inventory",
   "metadata": {},
   "source": [
    "1. Instale la libreria [Dash](#https://anaconda.org/conda-forge/dash)\n",
    "2. Ejecute el archivo app.py desde consola con Python, revise el código y adaptelo para que despliegue el siguiente resultado. \n",
    "    + Nota: revise la documentación de Dash y las etiquetas HTML\n",
    "    + Nota: hay tres nuevos elementos HTML\n",
    "    \n",
    "<img src=\"ret1.png\"/>"
   ]
  },
  {
   "cell_type": "markdown",
   "id": "manufactured-barcelona",
   "metadata": {},
   "source": [
    "3. Ejecute el archivo app4.py, identifique cada uno de los componentes y responda la siguiente pregunta\n",
    "+ ¿Cuantos elementos visuales (variables) del dataset ha cargado la figura 2?\n",
    "\n",
    "La grafica a cargado un total 7 varaibles las cuales son:\n",
    "dgpPercap, lifeExp, year, country, pop, continent, country"
   ]
  },
  {
   "cell_type": "markdown",
   "id": "outdoor-separate",
   "metadata": {},
   "source": [
    "## Spaceship"
   ]
  },
  {
   "cell_type": "markdown",
   "id": "ecological-carroll",
   "metadata": {},
   "source": [
    "4. Proponga un modelo para el reto en Kaggle [Spaceship Titanic](https://www.kaggle.com/competitions/spaceship-titanic), tenga presente que el contexto y los datos son distintos\n",
    "\n",
    "*Desarrolle una aplicación web con Flask, Dash y plotly teniendo como base los siguientes requerimientos:*\n",
    "\n",
    "5. El sistema debe contar con los elementos de visualización web que se presentan en las siguientes capturas de pantalla\n",
    "6. El sistema debe presentar la tabla de datos\n",
    "7. El sistema debe presentar la visualización de barras\n",
    "8. El sistema debe presentar el resultado del modelo a partir de las entradas del usuario"
   ]
  },
  {
   "cell_type": "markdown",
   "id": "experienced-layer",
   "metadata": {},
   "source": [
    "<img src=\"space1.png\"/>"
   ]
  },
  {
   "cell_type": "markdown",
   "id": "included-snapshot",
   "metadata": {},
   "source": [
    "<img src=\"space2.png\"/>"
   ]
  },
  {
   "cell_type": "markdown",
   "id": "operational-solution",
   "metadata": {},
   "source": [
    "<img src=\"space3.png\"/>"
   ]
  },
  {
   "cell_type": "markdown",
   "id": "minimal-opportunity",
   "metadata": {},
   "source": [
    "# Entregables\n",
    "\n",
    "+ Un entregable es el presente notebook\n",
    "    + Con los nombres de los integrantes.\n",
    "    + Con el proceso del desarrollo del modelo para el reto de datos\n",
    "    + Con la respuesta a las preguntas\n",
    "+ Un archivo python (.py) para la aplicación web del ejercicio 2\n",
    "+ Un archivo python (.py) para la aplicación web de Spaceship Titanic"
   ]
  },
  {
   "cell_type": "markdown",
   "id": "linear-liabilities",
   "metadata": {},
   "source": [
    "# Referencias"
   ]
  },
  {
   "cell_type": "markdown",
   "id": "satellite-nicaragua",
   "metadata": {},
   "source": [
    "+ https://github.com/plotly/dash\n",
    "+ https://scikit-learn.org/stable/modules/model_persistence.html"
   ]
  },
  {
   "cell_type": "markdown",
   "id": "933e31e7",
   "metadata": {},
   "source": [
    "<h1>Desarollo modelo regresión logística para clasificación binaria</h1>"
   ]
  },
  {
   "cell_type": "code",
   "execution_count": 2,
   "id": "b4a2867e",
   "metadata": {},
   "outputs": [],
   "source": [
    "import os\n",
    "import pandas as pd\n",
    "import matplotlib.pyplot as plt\n",
    "import seaborn as sns\n",
    "import numpy as np\n",
    "from sklearn.model_selection import train_test_split\n",
    "from sklearn.preprocessing import MinMaxScaler\n",
    "from copy import deepcopy \n",
    "from numpy.random import default_rng\n",
    "%matplotlib inline                  \n",
    "from matplotlib.colors import LinearSegmentedColormap                               \n",
    "from sklearn.model_selection import train_test_split \n",
    "from sklearn.preprocessing import MinMaxScaler     \n",
    "import sklearn.datasets as dt                         \n",
    "from sklearn.linear_model import LogisticRegression   \n",
    "from sklearn import metrics                          \n",
    "\n",
    "  "
   ]
  },
  {
   "cell_type": "code",
   "execution_count": 3,
   "id": "a5fced56",
   "metadata": {},
   "outputs": [],
   "source": [
    "df_train = pd.read_csv('train.csv')\n"
   ]
  },
  {
   "cell_type": "code",
   "execution_count": 4,
   "id": "1d1931c9",
   "metadata": {},
   "outputs": [
    {
     "data": {
      "text/plain": [
       "(8693, 14)"
      ]
     },
     "execution_count": 4,
     "metadata": {},
     "output_type": "execute_result"
    }
   ],
   "source": [
    "df_train.shape"
   ]
  },
  {
   "cell_type": "code",
   "execution_count": 5,
   "id": "e3918412",
   "metadata": {
    "scrolled": true
   },
   "outputs": [
    {
     "data": {
      "text/plain": [
       "<bound method DataFrame.info of      PassengerId HomePlanet CryoSleep     Cabin    Destination   Age    VIP  \\\n",
       "0        0001_01     Europa     False     B/0/P    TRAPPIST-1e  39.0  False   \n",
       "1        0002_01      Earth     False     F/0/S    TRAPPIST-1e  24.0  False   \n",
       "2        0003_01     Europa     False     A/0/S    TRAPPIST-1e  58.0   True   \n",
       "3        0003_02     Europa     False     A/0/S    TRAPPIST-1e  33.0  False   \n",
       "4        0004_01      Earth     False     F/1/S    TRAPPIST-1e  16.0  False   \n",
       "...          ...        ...       ...       ...            ...   ...    ...   \n",
       "8688     9276_01     Europa     False    A/98/P    55 Cancri e  41.0   True   \n",
       "8689     9278_01      Earth      True  G/1499/S  PSO J318.5-22  18.0  False   \n",
       "8690     9279_01      Earth     False  G/1500/S    TRAPPIST-1e  26.0  False   \n",
       "8691     9280_01     Europa     False   E/608/S    55 Cancri e  32.0  False   \n",
       "8692     9280_02     Europa     False   E/608/S    TRAPPIST-1e  44.0  False   \n",
       "\n",
       "      RoomService  FoodCourt  ShoppingMall     Spa  VRDeck               Name  \\\n",
       "0             0.0        0.0           0.0     0.0     0.0    Maham Ofracculy   \n",
       "1           109.0        9.0          25.0   549.0    44.0       Juanna Vines   \n",
       "2            43.0     3576.0           0.0  6715.0    49.0      Altark Susent   \n",
       "3             0.0     1283.0         371.0  3329.0   193.0       Solam Susent   \n",
       "4           303.0       70.0         151.0   565.0     2.0  Willy Santantines   \n",
       "...           ...        ...           ...     ...     ...                ...   \n",
       "8688          0.0     6819.0           0.0  1643.0    74.0  Gravior Noxnuther   \n",
       "8689          0.0        0.0           0.0     0.0     0.0    Kurta Mondalley   \n",
       "8690          0.0        0.0        1872.0     1.0     0.0       Fayey Connon   \n",
       "8691          0.0     1049.0           0.0   353.0  3235.0   Celeon Hontichre   \n",
       "8692        126.0     4688.0           0.0     0.0    12.0   Propsh Hontichre   \n",
       "\n",
       "      Transported  \n",
       "0           False  \n",
       "1            True  \n",
       "2           False  \n",
       "3           False  \n",
       "4            True  \n",
       "...           ...  \n",
       "8688        False  \n",
       "8689        False  \n",
       "8690         True  \n",
       "8691        False  \n",
       "8692         True  \n",
       "\n",
       "[8693 rows x 14 columns]>"
      ]
     },
     "execution_count": 5,
     "metadata": {},
     "output_type": "execute_result"
    }
   ],
   "source": [
    "df_train.info"
   ]
  },
  {
   "cell_type": "code",
   "execution_count": 6,
   "id": "dc032215",
   "metadata": {},
   "outputs": [
    {
     "data": {
      "text/html": [
       "<div>\n",
       "<style scoped>\n",
       "    .dataframe tbody tr th:only-of-type {\n",
       "        vertical-align: middle;\n",
       "    }\n",
       "\n",
       "    .dataframe tbody tr th {\n",
       "        vertical-align: top;\n",
       "    }\n",
       "\n",
       "    .dataframe thead th {\n",
       "        text-align: right;\n",
       "    }\n",
       "</style>\n",
       "<table border=\"1\" class=\"dataframe\">\n",
       "  <thead>\n",
       "    <tr style=\"text-align: right;\">\n",
       "      <th></th>\n",
       "      <th>Age</th>\n",
       "      <th>RoomService</th>\n",
       "      <th>FoodCourt</th>\n",
       "      <th>ShoppingMall</th>\n",
       "      <th>Spa</th>\n",
       "      <th>VRDeck</th>\n",
       "    </tr>\n",
       "  </thead>\n",
       "  <tbody>\n",
       "    <tr>\n",
       "      <th>count</th>\n",
       "      <td>8514.000000</td>\n",
       "      <td>8512.000000</td>\n",
       "      <td>8510.000000</td>\n",
       "      <td>8485.000000</td>\n",
       "      <td>8510.000000</td>\n",
       "      <td>8505.000000</td>\n",
       "    </tr>\n",
       "    <tr>\n",
       "      <th>mean</th>\n",
       "      <td>28.827930</td>\n",
       "      <td>224.687617</td>\n",
       "      <td>458.077203</td>\n",
       "      <td>173.729169</td>\n",
       "      <td>311.138778</td>\n",
       "      <td>304.854791</td>\n",
       "    </tr>\n",
       "    <tr>\n",
       "      <th>std</th>\n",
       "      <td>14.489021</td>\n",
       "      <td>666.717663</td>\n",
       "      <td>1611.489240</td>\n",
       "      <td>604.696458</td>\n",
       "      <td>1136.705535</td>\n",
       "      <td>1145.717189</td>\n",
       "    </tr>\n",
       "    <tr>\n",
       "      <th>min</th>\n",
       "      <td>0.000000</td>\n",
       "      <td>0.000000</td>\n",
       "      <td>0.000000</td>\n",
       "      <td>0.000000</td>\n",
       "      <td>0.000000</td>\n",
       "      <td>0.000000</td>\n",
       "    </tr>\n",
       "    <tr>\n",
       "      <th>25%</th>\n",
       "      <td>19.000000</td>\n",
       "      <td>0.000000</td>\n",
       "      <td>0.000000</td>\n",
       "      <td>0.000000</td>\n",
       "      <td>0.000000</td>\n",
       "      <td>0.000000</td>\n",
       "    </tr>\n",
       "    <tr>\n",
       "      <th>50%</th>\n",
       "      <td>27.000000</td>\n",
       "      <td>0.000000</td>\n",
       "      <td>0.000000</td>\n",
       "      <td>0.000000</td>\n",
       "      <td>0.000000</td>\n",
       "      <td>0.000000</td>\n",
       "    </tr>\n",
       "    <tr>\n",
       "      <th>75%</th>\n",
       "      <td>38.000000</td>\n",
       "      <td>47.000000</td>\n",
       "      <td>76.000000</td>\n",
       "      <td>27.000000</td>\n",
       "      <td>59.000000</td>\n",
       "      <td>46.000000</td>\n",
       "    </tr>\n",
       "    <tr>\n",
       "      <th>max</th>\n",
       "      <td>79.000000</td>\n",
       "      <td>14327.000000</td>\n",
       "      <td>29813.000000</td>\n",
       "      <td>23492.000000</td>\n",
       "      <td>22408.000000</td>\n",
       "      <td>24133.000000</td>\n",
       "    </tr>\n",
       "  </tbody>\n",
       "</table>\n",
       "</div>"
      ],
      "text/plain": [
       "               Age   RoomService     FoodCourt  ShoppingMall           Spa  \\\n",
       "count  8514.000000   8512.000000   8510.000000   8485.000000   8510.000000   \n",
       "mean     28.827930    224.687617    458.077203    173.729169    311.138778   \n",
       "std      14.489021    666.717663   1611.489240    604.696458   1136.705535   \n",
       "min       0.000000      0.000000      0.000000      0.000000      0.000000   \n",
       "25%      19.000000      0.000000      0.000000      0.000000      0.000000   \n",
       "50%      27.000000      0.000000      0.000000      0.000000      0.000000   \n",
       "75%      38.000000     47.000000     76.000000     27.000000     59.000000   \n",
       "max      79.000000  14327.000000  29813.000000  23492.000000  22408.000000   \n",
       "\n",
       "             VRDeck  \n",
       "count   8505.000000  \n",
       "mean     304.854791  \n",
       "std     1145.717189  \n",
       "min        0.000000  \n",
       "25%        0.000000  \n",
       "50%        0.000000  \n",
       "75%       46.000000  \n",
       "max    24133.000000  "
      ]
     },
     "execution_count": 6,
     "metadata": {},
     "output_type": "execute_result"
    }
   ],
   "source": [
    "df_train.describe()"
   ]
  },
  {
   "cell_type": "code",
   "execution_count": 7,
   "id": "024847f7",
   "metadata": {},
   "outputs": [
    {
     "data": {
      "image/png": "[encoded data removed]",
      "text/plain": [
       "<Figure size 864x864 with 2 Axes>"
      ]
     },
     "metadata": {
      "needs_background": "light"
     },
     "output_type": "display_data"
    }
   ],
   "source": [
    "plt.figure(figsize=(12, 12))\n",
    "ax = sns.heatmap(df_train.corr(),annot=True,cmap='RdYlGn',fmt='0.4f')"
   ]
  },
  {
   "cell_type": "code",
   "execution_count": 8,
   "id": "0018e357",
   "metadata": {},
   "outputs": [],
   "source": [
    "df_train = df_train.replace([True,False],[1,0])"
   ]
  },
  {
   "cell_type": "code",
   "execution_count": 9,
   "id": "002b5632",
   "metadata": {
    "scrolled": true
   },
   "outputs": [
    {
     "data": {
      "text/plain": [
       "<bound method NDFrame.head of      PassengerId HomePlanet  CryoSleep     Cabin    Destination   Age  VIP  \\\n",
       "0        0001_01     Europa        0.0     B/0/P    TRAPPIST-1e  39.0  0.0   \n",
       "1        0002_01      Earth        0.0     F/0/S    TRAPPIST-1e  24.0  0.0   \n",
       "2        0003_01     Europa        0.0     A/0/S    TRAPPIST-1e  58.0  1.0   \n",
       "3        0003_02     Europa        0.0     A/0/S    TRAPPIST-1e  33.0  0.0   \n",
       "4        0004_01      Earth        0.0     F/1/S    TRAPPIST-1e  16.0  0.0   \n",
       "...          ...        ...        ...       ...            ...   ...  ...   \n",
       "8688     9276_01     Europa        0.0    A/98/P    55 Cancri e  41.0  1.0   \n",
       "8689     9278_01      Earth        1.0  G/1499/S  PSO J318.5-22  18.0  0.0   \n",
       "8690     9279_01      Earth        0.0  G/1500/S    TRAPPIST-1e  26.0  0.0   \n",
       "8691     9280_01     Europa        0.0   E/608/S    55 Cancri e  32.0  0.0   \n",
       "8692     9280_02     Europa        0.0   E/608/S    TRAPPIST-1e  44.0  0.0   \n",
       "\n",
       "      RoomService  FoodCourt  ShoppingMall     Spa  VRDeck               Name  \\\n",
       "0             0.0        0.0           0.0     0.0     0.0    Maham Ofracculy   \n",
       "1           109.0        9.0          25.0   549.0    44.0       Juanna Vines   \n",
       "2            43.0     3576.0           0.0  6715.0    49.0      Altark Susent   \n",
       "3             0.0     1283.0         371.0  3329.0   193.0       Solam Susent   \n",
       "4           303.0       70.0         151.0   565.0     2.0  Willy Santantines   \n",
       "...           ...        ...           ...     ...     ...                ...   \n",
       "8688          0.0     6819.0           0.0  1643.0    74.0  Gravior Noxnuther   \n",
       "8689          0.0        0.0           0.0     0.0     0.0    Kurta Mondalley   \n",
       "8690          0.0        0.0        1872.0     1.0     0.0       Fayey Connon   \n",
       "8691          0.0     1049.0           0.0   353.0  3235.0   Celeon Hontichre   \n",
       "8692        126.0     4688.0           0.0     0.0    12.0   Propsh Hontichre   \n",
       "\n",
       "      Transported  \n",
       "0               0  \n",
       "1               1  \n",
       "2               0  \n",
       "3               0  \n",
       "4               1  \n",
       "...           ...  \n",
       "8688            0  \n",
       "8689            0  \n",
       "8690            1  \n",
       "8691            0  \n",
       "8692            1  \n",
       "\n",
       "[8693 rows x 14 columns]>"
      ]
     },
     "execution_count": 9,
     "metadata": {},
     "output_type": "execute_result"
    }
   ],
   "source": [
    "df_train.head"
   ]
  },
  {
   "cell_type": "code",
   "execution_count": 10,
   "id": "ba2e1569",
   "metadata": {},
   "outputs": [
    {
     "name": "stdout",
     "output_type": "stream",
     "text": [
      "Conteo de objetos por clase:\n",
      "1    4378\n",
      "0    4315\n",
      "Name: Transported, dtype: int64\n",
      "\n"
     ]
    },
    {
     "data": {
      "image/png": "[encoded data removed]",
      "text/plain": [
       "<Figure size 360x360 with 1 Axes>"
      ]
     },
     "metadata": {},
     "output_type": "display_data"
    }
   ],
   "source": [
    "#Econtremos cómo están repartidas las categorías en el conjunto de datos. \n",
    "Target = 'Transported'\n",
    "conteo_de_ejemplos_por_clase = df_train[Target].value_counts()\n",
    "print('Conteo de objetos por clase:\\n', conteo_de_ejemplos_por_clase, '\\n',sep='')\n",
    "#print('El tipo de este objeto es: ', type(conteo_de_ejemplos_por_clase),'\\n')\n",
    "\n",
    "#Revisemos esta información de forma gráfica.\n",
    "#-------------------------------------------------------------------------------\n",
    "#Opción 1: usemos un gráfico tipo pastel desde pandas. \n",
    "#-------------------------------------------------------------------------------\n",
    "conteo_de_ejemplos_por_clase.plot(kind='pie', \n",
    "                                    figsize=(5, 5),\n",
    "                                    autopct='%1.1f%%',  #Esto muestra úicamente el porcentaje de ejemplos de cada categoría en el gráfico. \n",
    "                                    #autopct=lambda pct: '{:.1f}%\\n({:d})'.format(pct, int(pct/100.*conteo_de_ejemplos_por_clase.sum())), #Con esta función lambda se puede mostrar el porcentaje y el número absoluto de ejemplos en cada categoría. \n",
    "                                    startangle=90,       #Esto define la orientación de la línea vertical inicial de las divisiones del pie chart.\n",
    "                                    fontsize=14,         #Tamaño de los textos.         \n",
    "                                    cmap='Pastel1')      #Para otros color maps visite: https://matplotlib.org/stable/tutorials/colors/colormaps.html\n",
    "titulo = 'Distribución del número de ejemplos de cada\\nclase en el conjunto de datos'\n",
    "plt.title(titulo) \n",
    "plt.ylabel('') #Esto es para evitar un texto en el eje y que diría Species.\n",
    "plt.show()"
   ]
  },
  {
   "cell_type": "code",
   "execution_count": 11,
   "id": "4e259fd5",
   "metadata": {},
   "outputs": [],
   "source": [
    "\n",
    "\n",
    "df_clean_train = df_train[['RoomService','FoodCourt', 'ShoppingMall', 'Spa','Transported' ]]\n",
    "df_clean_train = df_train.dropna(how='any',axis=0) \n"
   ]
  },
  {
   "cell_type": "code",
   "execution_count": 12,
   "id": "f38104be",
   "metadata": {},
   "outputs": [],
   "source": [
    "\n",
    "from sklearn.linear_model import LogisticRegression\n",
    "\n",
    "log_reg_1 = LogisticRegression()"
   ]
  },
  {
   "cell_type": "code",
   "execution_count": 13,
   "id": "a2002d68",
   "metadata": {},
   "outputs": [],
   "source": [
    "nombre_de_la_variable_de_salida='Transported' \n",
    "nombre_de_las_variables_de_entrada = ['RoomService','FoodCourt', 'ShoppingMall', 'Spa']"
   ]
  },
  {
   "cell_type": "code",
   "execution_count": 14,
   "id": "4915b02d",
   "metadata": {
    "scrolled": true
   },
   "outputs": [
    {
     "name": "stdout",
     "output_type": "stream",
     "text": [
      "Dataframe de salida:\n",
      "0       0\n",
      "1       1\n",
      "2       0\n",
      "3       0\n",
      "4       1\n",
      "       ..\n",
      "8688    0\n",
      "8689    0\n",
      "8690    1\n",
      "8691    0\n",
      "8692    1\n",
      "Name: Transported, Length: 6606, dtype: int64\n",
      "\n",
      "Dataframe de entrada:\n",
      "<class 'pandas.core.frame.DataFrame'>\n",
      "      RoomService  FoodCourt  ShoppingMall     Spa\n",
      "0             0.0        0.0           0.0     0.0\n",
      "1           109.0        9.0          25.0   549.0\n",
      "2            43.0     3576.0           0.0  6715.0\n",
      "3             0.0     1283.0         371.0  3329.0\n",
      "4           303.0       70.0         151.0   565.0\n",
      "...           ...        ...           ...     ...\n",
      "8688          0.0     6819.0           0.0  1643.0\n",
      "8689          0.0        0.0           0.0     0.0\n",
      "8690          0.0        0.0        1872.0     1.0\n",
      "8691          0.0     1049.0           0.0   353.0\n",
      "8692        126.0     4688.0           0.0     0.0\n",
      "\n",
      "[6606 rows x 4 columns]\n"
     ]
    }
   ],
   "source": [
    "\n",
    "df_y = df_clean_train[nombre_de_la_variable_de_salida]\n",
    "print('Dataframe de salida:')\n",
    "print(df_y)\n",
    "\n",
    "\n",
    "df_x = deepcopy(df_clean_train[nombre_de_las_variables_de_entrada])\n",
    "print('\\nDataframe de entrada:')\n",
    "print(type(df_x))\n",
    "print(df_x)\n"
   ]
  },
  {
   "cell_type": "code",
   "execution_count": 15,
   "id": "e6628676",
   "metadata": {
    "scrolled": true
   },
   "outputs": [
    {
     "name": "stdout",
     "output_type": "stream",
     "text": [
      "-----------------------------------------------------------------------\n",
      "Conjunto de datos de entrenamiento 60%\n",
      "-----------------------------------------------------------------------\n",
      "<class 'pandas.core.frame.DataFrame'>\n",
      "Int64Index: 3963 entries, 7832 to 4579\n",
      "Data columns (total 4 columns):\n",
      " #   Column        Non-Null Count  Dtype  \n",
      "---  ------        --------------  -----  \n",
      " 0   RoomService   3963 non-null   float64\n",
      " 1   FoodCourt     3963 non-null   float64\n",
      " 2   ShoppingMall  3963 non-null   float64\n",
      " 3   Spa           3963 non-null   float64\n",
      "dtypes: float64(4)\n",
      "memory usage: 154.8 KB\n",
      "None \n",
      "\n",
      "-----------------------------------------------------------------------\n",
      "Conjunto de datos de desarrollo 20%\n",
      "-----------------------------------------------------------------------\n",
      "<class 'pandas.core.frame.DataFrame'>\n",
      "Int64Index: 1321 entries, 4891 to 1162\n",
      "Data columns (total 4 columns):\n",
      " #   Column        Non-Null Count  Dtype  \n",
      "---  ------        --------------  -----  \n",
      " 0   RoomService   1321 non-null   float64\n",
      " 1   FoodCourt     1321 non-null   float64\n",
      " 2   ShoppingMall  1321 non-null   float64\n",
      " 3   Spa           1321 non-null   float64\n",
      "dtypes: float64(4)\n",
      "memory usage: 51.6 KB\n",
      "None \n",
      "\n",
      "-----------------------------------------------------------------------\n",
      "Conjunto de datos de prueba 20%\n",
      "-----------------------------------------------------------------------\n",
      "<class 'pandas.core.frame.DataFrame'>\n",
      "Int64Index: 1322 entries, 8441 to 875\n",
      "Data columns (total 4 columns):\n",
      " #   Column        Non-Null Count  Dtype  \n",
      "---  ------        --------------  -----  \n",
      " 0   RoomService   1322 non-null   float64\n",
      " 1   FoodCourt     1322 non-null   float64\n",
      " 2   ShoppingMall  1322 non-null   float64\n",
      " 3   Spa           1322 non-null   float64\n",
      "dtypes: float64(4)\n",
      "memory usage: 51.6 KB\n",
      "None\n",
      "\n",
      "Conteo de objetos por clase en el conjunto de entrenamiento:\n",
      "0    1985\n",
      "1    1978\n",
      "Name: Transported, dtype: int64\n",
      "\n",
      "El porcentaje de tipo 1 en el conjunto de entrenamiento es:  49.91168306838254 %\n",
      "\n",
      "Conteo de objetos por clase en el conjunto de validación:\n",
      "1    680\n",
      "0    641\n",
      "Name: Transported, dtype: int64\n",
      "\n",
      "El porcentaje de tipo 1 en el conjunto de validación es:  51.47615442846328 %\n",
      "\n",
      "Conteo de objetos por clase en el conjunto de prueba:\n",
      "1    669\n",
      "0    653\n",
      "Name: Transported, dtype: int64\n",
      "\n",
      "El porcentaje de tipo 1 en el conjunto de prueba es:  50.60514372163388 %\n",
      "\n"
     ]
    }
   ],
   "source": [
    "# Vamos a dividir los datos en un conjunto de entrenamiento, un conjunto de desarrollo o validación, y un conjunto de pruebas.\n",
    "mezclar_los_datos       = True #Vamos a mezclar de forma aleatoria los datos antes de particionarlos. \n",
    "valor_semilla_aleatoria = 42\n",
    "4#Esto es útil si se quiere garantizar la repetibilidad \n",
    "                               #de la partición de datos en ejecuciones sucesivas de su notebook o script. \n",
    "\n",
    "#Porcentajes de división de datos. \n",
    "particion_para_entrenamiento = 0.6  #Dejamos el 60% de los datos para el conjunto de entrenamiento (training set).\n",
    "particion_para_desarrollo    = 0.2  #Dejamos el 20% de los datos para el conjunto de desarrollo (dev set).\n",
    "                                    #Este conjunto se conoce también como: selección del modelo, validación, o hold-out.\n",
    "particion_para_entrenamiento_y_desarrollo = particion_para_entrenamiento+particion_para_desarrollo #Variable auxiliar. \n",
    "particion_para_pruebas       = 1.0-particion_para_entrenamiento_y_desarrollo #Dejamos los otros datos, correspondiente al 20%, para el conjunto de pruebas. \n",
    "\n",
    "#Hacemos la partición para obtener el conjunto de pruebas y el \"resto\" (i.e.: entrenamiento y desarrollo).\n",
    "df_x_rest, df_x_test, df_y_rest, df_y_test = train_test_split(df_x,                                         #100% de los datos de entrada. \n",
    "                                                              df_y,                                         #100% de los datos de salida. \n",
    "                                                              test_size=particion_para_pruebas, \n",
    "                                                              random_state=valor_semilla_aleatoria, \n",
    "                                                              shuffle=mezclar_los_datos)\n",
    "\n",
    "#Del \"resto\" obtenemos los conjuntos de entrenamiento y desarrollo. \n",
    "df_x_train, df_x_val, df_y_train, df_y_val = train_test_split(df_x_rest,                                    #Una fracción de los datos de entrada. \n",
    "                                                              df_y_rest,                                    #Una fracción de los datos de salida.        \n",
    "                                                              test_size=particion_para_desarrollo/particion_para_entrenamiento_y_desarrollo, #cuidado! este es el porcentaje respecto al \"resto\". \n",
    "                                                              random_state=valor_semilla_aleatoria, \n",
    "                                                              shuffle=False) #Los datos ya se mezclaron arriba, no es necesario repetirlo acá.  \n",
    "\n",
    "print('-----------------------------------------------------------------------')\n",
    "print('Conjunto de datos de entrenamiento {:1.0f}%'.format(particion_para_entrenamiento*100))\n",
    "print('-----------------------------------------------------------------------')\n",
    "print(df_x_train.info(),'\\n')\n",
    "\n",
    "print('-----------------------------------------------------------------------')\n",
    "print('Conjunto de datos de desarrollo {:1.0f}%'.format(particion_para_desarrollo*100))\n",
    "print('-----------------------------------------------------------------------')\n",
    "print(df_x_val.info(),'\\n')\n",
    "\n",
    "print('-----------------------------------------------------------------------')\n",
    "print('Conjunto de datos de prueba {:1.0f}%'.format(particion_para_pruebas*100))\n",
    "print('-----------------------------------------------------------------------')\n",
    "print(df_x_test.info(),'\\n',sep='')\n",
    "\n",
    "conteo_de_ejemplos_por_clase = df_y_train.value_counts()\n",
    "print('Conteo de objetos por clase en el conjunto de entrenamiento:\\n', conteo_de_ejemplos_por_clase, '\\n',sep='')\n",
    "print('El porcentaje de tipo 1 en el conjunto de entrenamiento es: ', 100*(conteo_de_ejemplos_por_clase[1]/sum(conteo_de_ejemplos_por_clase)),'%\\n')\n",
    "\n",
    "conteo_de_ejemplos_por_clase = df_y_val.value_counts()\n",
    "print('Conteo de objetos por clase en el conjunto de validación:\\n', conteo_de_ejemplos_por_clase, '\\n',sep='')\n",
    "print('El porcentaje de tipo 1 en el conjunto de validación es: ', 100*(conteo_de_ejemplos_por_clase[1]/sum(conteo_de_ejemplos_por_clase)),'%\\n')\n",
    "\n",
    "conteo_de_ejemplos_por_clase = df_y_test.value_counts()\n",
    "print('Conteo de objetos por clase en el conjunto de prueba:\\n', conteo_de_ejemplos_por_clase, '\\n',sep='')\n",
    "print('El porcentaje de tipo 1 en el conjunto de prueba es: ', 100*(conteo_de_ejemplos_por_clase[1]/sum(conteo_de_ejemplos_por_clase)),'%\\n')"
   ]
  },
  {
   "cell_type": "code",
   "execution_count": 16,
   "id": "eab58fd3",
   "metadata": {},
   "outputs": [
    {
     "data": {
      "text/plain": [
       "LogisticRegression()"
      ]
     },
     "execution_count": 16,
     "metadata": {},
     "output_type": "execute_result"
    }
   ],
   "source": [
    "log_reg_1.fit(df_x_train,df_y_train)"
   ]
  },
  {
   "cell_type": "code",
   "execution_count": 17,
   "id": "a2ec8da8",
   "metadata": {},
   "outputs": [
    {
     "data": {
      "text/plain": [
       "{'C': 1.0,\n",
       " 'class_weight': None,\n",
       " 'dual': False,\n",
       " 'fit_intercept': True,\n",
       " 'intercept_scaling': 1,\n",
       " 'l1_ratio': None,\n",
       " 'max_iter': 100,\n",
       " 'multi_class': 'auto',\n",
       " 'n_jobs': None,\n",
       " 'penalty': 'l2',\n",
       " 'random_state': None,\n",
       " 'solver': 'lbfgs',\n",
       " 'tol': 0.0001,\n",
       " 'verbose': 0,\n",
       " 'warm_start': False}"
      ]
     },
     "execution_count": 17,
     "metadata": {},
     "output_type": "execute_result"
    }
   ],
   "source": [
    "log_reg_1.get_params()"
   ]
  },
  {
   "cell_type": "code",
   "execution_count": 18,
   "id": "81b1a4e4",
   "metadata": {},
   "outputs": [],
   "source": [
    "# predict class\n",
    "y_pred_train = log_reg_1.predict(df_x_train)"
   ]
  },
  {
   "cell_type": "code",
   "execution_count": 19,
   "id": "263b2f02",
   "metadata": {},
   "outputs": [
    {
     "name": "stdout",
     "output_type": "stream",
     "text": [
      "Accuracy: 0.7169\n",
      "TPR: 0.8989\n",
      "FPR: 0.4645\n"
     ]
    },
    {
     "data": {
      "image/png": "[encoded data removed]",
      "text/plain": [
       "<Figure size 432x288 with 2 Axes>"
      ]
     },
     "metadata": {
      "needs_background": "light"
     },
     "output_type": "display_data"
    }
   ],
   "source": [
    "cm = metrics.confusion_matrix(df_y_train,y_pred_train)\n",
    "TP = cm[1,1]\n",
    "TN = cm[0,0]\n",
    "FP = cm[0,1]\n",
    "FN = cm[1,0]\n",
    "TPR = TP/(TP+FN)\n",
    "FPR = FP/(FP+TN)\n",
    "acc = (TP+TN)/(TP+TN+FP+FN)\n",
    "print('Accuracy: %.4f' % acc)\n",
    "print('TPR: %.4f' % TPR)\n",
    "print('FPR: %.4f' % FPR)\n",
    "disp = metrics.ConfusionMatrixDisplay(confusion_matrix = cm)\n",
    "disp.plot()\n",
    "plt.show()"
   ]
  },
  {
   "cell_type": "code",
   "execution_count": 20,
   "id": "890ca181",
   "metadata": {},
   "outputs": [],
   "source": [
    "# predict class\n",
    "y_pred_val = log_reg_1.predict(df_x_val)"
   ]
  },
  {
   "cell_type": "code",
   "execution_count": 21,
   "id": "8f1add70",
   "metadata": {},
   "outputs": [
    {
     "name": "stdout",
     "output_type": "stream",
     "text": [
      "Accuracy: 0.7328\n",
      "TPR: 0.9088\n",
      "FPR: 0.4540\n"
     ]
    },
    {
     "data": {
      "image/png": "[encoded data removed]",
      "text/plain": [
       "<Figure size 432x288 with 2 Axes>"
      ]
     },
     "metadata": {
      "needs_background": "light"
     },
     "output_type": "display_data"
    }
   ],
   "source": [
    "cm = metrics.confusion_matrix(df_y_val,y_pred_val)\n",
    "TP = cm[1,1]\n",
    "TN = cm[0,0]\n",
    "FP = cm[0,1]\n",
    "FN = cm[1,0]\n",
    "TPR = TP/(TP+FN)\n",
    "FPR = FP/(FP+TN)\n",
    "acc = (TP+TN)/(TP+TN+FP+FN)\n",
    "print('Accuracy: %.4f' % acc)\n",
    "print('TPR: %.4f' % TPR)\n",
    "print('FPR: %.4f' % FPR)\n",
    "disp = metrics.ConfusionMatrixDisplay(confusion_matrix = cm)\n",
    "disp.plot()\n",
    "plt.show()"
   ]
  },
  {
   "cell_type": "code",
   "execution_count": 22,
   "id": "60b64d3e",
   "metadata": {},
   "outputs": [],
   "source": [
    "# predict probabilities\n",
    "y_prob = log_reg_1.predict_proba(df_x_train)"
   ]
  },
  {
   "cell_type": "code",
   "execution_count": 23,
   "id": "20395876",
   "metadata": {},
   "outputs": [],
   "source": [
    "from sklearn.metrics import roc_curve\n",
    "from sklearn.metrics import roc_auc_score\n",
    "\n",
    "def curva_roc(y_prob, df_y):\n",
    "    \n",
    "    ns_prob = [0 for _ in range(len(df_y))]\n",
    "\n",
    "    # keep probabilities for the positive outcome only\n",
    "    y_prob_val_c1 = y_prob[:, 1]\n",
    "\n",
    "    # calculate scores\n",
    "    ns_auc = roc_auc_score(df_y, ns_prob)\n",
    "    log_reg_auc = roc_auc_score(df_y, y_prob_val_c1)\n",
    "\n",
    "    # summarize scores\n",
    "    print('No Skill: ROC AUC=%.4f' % (ns_auc))\n",
    "    print('Logistic: ROC AUC=%.4f' % (log_reg_auc))\n",
    "\n",
    "    # calculate roc curves\n",
    "    ns_fpr, ns_tpr, _ = roc_curve(df_y, ns_prob)\n",
    "    log_reg_fpr, log_reg_tpr, ths = roc_curve(df_y, y_prob_val_c1)\n",
    "\n",
    "    # plot the roc curve for the model\n",
    "    plt.plot(ns_fpr, ns_tpr, linestyle='--', color = 'b', label='No Skill')\n",
    "    plt.plot(log_reg_fpr, log_reg_tpr, marker='.', color = 'r', label='Logistic')\n",
    "\n",
    "    # axis labels\n",
    "    plt.xlabel('False Positive Rate')\n",
    "    plt.ylabel('True Positive Rate')\n",
    "    # show the legend\n",
    "    plt.legend()\n",
    "    # show the plot\n",
    "    plt.show()\n",
    "    \n",
    "    return ths"
   ]
  },
  {
   "cell_type": "code",
   "execution_count": 24,
   "id": "c80b9dac",
   "metadata": {},
   "outputs": [
    {
     "name": "stdout",
     "output_type": "stream",
     "text": [
      "No Skill: ROC AUC=0.5000\n",
      "Logistic: ROC AUC=0.7466\n"
     ]
    },
    {
     "data": {
      "image/png": "[encoded data removed]",
      "text/plain": [
       "<Figure size 432x288 with 1 Axes>"
      ]
     },
     "metadata": {
      "needs_background": "light"
     },
     "output_type": "display_data"
    }
   ],
   "source": [
    "ths = curva_roc(y_prob,df_y_train)"
   ]
  },
  {
   "cell_type": "code",
   "execution_count": 25,
   "id": "ac2c37d1",
   "metadata": {},
   "outputs": [],
   "source": [
    "# keep probabilities for the positive outcome only\n",
    "\n",
    "def umbral_optimo(y_prob,df_y,ths):\n",
    "    \n",
    "    y_prob_c1 = y_prob[:, 1]\n",
    "    roc = []\n",
    "    for j in range (len(ths)):\n",
    "        y_pred = np.zeros(len(y_prob_c1))\n",
    "        for i in range(len(y_prob_c1)):\n",
    "            if (y_prob_c1[i] >= ths[j]):\n",
    "                y_pred[i] = 1\n",
    "        cm = metrics.confusion_matrix(df_y,y_pred)\n",
    "        TP = cm[1,1]\n",
    "        TN = cm[0,0]\n",
    "        FP = cm[0,1]\n",
    "        FN = cm[1,0]\n",
    "        TPR = TP/(TP+FN)\n",
    "        FPR = FP/(FP+TN)\n",
    "        roc.append((TPR,FPR,ths[j]))    \n",
    "\n",
    "    roc = np.array(roc)  \n",
    "    \n",
    "    distance_to_top_left_corner = []\n",
    "\n",
    "    for i in range(len(roc)):\n",
    "        distance_to_top_left_corner.append( np.sqrt( ((roc[i,1]-0)**2)+((roc[i,0]-1)**2) ) )\n",
    "\n",
    "    index_of_best_threshold = distance_to_top_left_corner.index(min(distance_to_top_left_corner)) #Retorna el índice con la menor distancia\n",
    "    best_threshold          = ths[index_of_best_threshold]\n",
    "    #print('El mejor umbral para el conjunto de validación es {:.4f}.'.format(best_threshold))\n",
    "    return best_threshold"
   ]
  },
  {
   "cell_type": "code",
   "execution_count": 26,
   "id": "b96321c5",
   "metadata": {},
   "outputs": [
    {
     "name": "stdout",
     "output_type": "stream",
     "text": [
      "El mejor umbral es 0.6236.\n"
     ]
    }
   ],
   "source": [
    "best_th = umbral_optimo(y_prob,df_y_train,ths)\n",
    "print('El mejor umbral es {:.4f}.'.format(best_th))"
   ]
  },
  {
   "cell_type": "code",
   "execution_count": 27,
   "id": "998f3dc8",
   "metadata": {},
   "outputs": [
    {
     "name": "stdout",
     "output_type": "stream",
     "text": [
      "Accuracy: 0.7530\n",
      "TPR: 0.8498\n",
      "FPR: 0.3436\n"
     ]
    },
    {
     "data": {
      "image/png": "[encoded data removed]",
      "text/plain": [
       "<Figure size 432x288 with 2 Axes>"
      ]
     },
     "metadata": {
      "needs_background": "light"
     },
     "output_type": "display_data"
    }
   ],
   "source": [
    "# predict probabilities on the training set\n",
    "y_prob = log_reg_1.predict_proba(df_x_train)\n",
    "\n",
    "# predict class\n",
    "y_prob_c1 = y_prob[:, 1]\n",
    "th = best_th\n",
    "y_pred = np.zeros(len(y_prob_c1))\n",
    "for i in range(len(y_prob_c1)):\n",
    "    if (y_prob_c1[i] >= th):\n",
    "        y_pred[i] = 1\n",
    "\n",
    "#Evaluation on the training set\n",
    "cm = metrics.confusion_matrix(df_y_train,y_pred)\n",
    "TP = cm[1,1]\n",
    "TN = cm[0,0]\n",
    "FP = cm[0,1]\n",
    "FN = cm[1,0]\n",
    "TPR = TP/(TP+FN)\n",
    "FPR = FP/(FP+TN)\n",
    "acc = (TP+TN)/(TP+TN+FP+FN)\n",
    "print('Accuracy: %.4f' % acc)\n",
    "print('TPR: %.4f' % TPR)\n",
    "print('FPR: %.4f' % FPR)\n",
    "disp = metrics.ConfusionMatrixDisplay(confusion_matrix = cm)\n",
    "disp.plot()\n",
    "plt.show()"
   ]
  },
  {
   "cell_type": "code",
   "execution_count": 28,
   "id": "9794222b",
   "metadata": {},
   "outputs": [
    {
     "name": "stdout",
     "output_type": "stream",
     "text": [
      "Accuracy: 0.7631\n",
      "TPR: 0.8559\n",
      "FPR: 0.3354\n"
     ]
    },
    {
     "data": {
      "image/png": "[encoded data removed]",
      "text/plain": [
       "<Figure size 432x288 with 2 Axes>"
      ]
     },
     "metadata": {
      "needs_background": "light"
     },
     "output_type": "display_data"
    }
   ],
   "source": [
    "# predict probabilities on the validation set\n",
    "y_prob = log_reg_1.predict_proba(df_x_val)\n",
    "\n",
    "# predict class\n",
    "y_prob_c1 = y_prob[:, 1]\n",
    "th = best_th\n",
    "y_pred = np.zeros(len(y_prob_c1))\n",
    "for i in range(len(y_prob_c1)):\n",
    "    if (y_prob_c1[i] >= th):\n",
    "        y_pred[i] = 1\n",
    "\n",
    "#Evaluation on the training set\n",
    "cm = metrics.confusion_matrix(df_y_val,y_pred)\n",
    "TP = cm[1,1]\n",
    "TN = cm[0,0]\n",
    "FP = cm[0,1]\n",
    "FN = cm[1,0]\n",
    "TPR = TP/(TP+FN)\n",
    "FPR = FP/(FP+TN)\n",
    "acc = (TP+TN)/(TP+TN+FP+FN)\n",
    "print('Accuracy: %.4f' % acc)\n",
    "print('TPR: %.4f' % TPR)\n",
    "print('FPR: %.4f' % FPR)\n",
    "disp = metrics.ConfusionMatrixDisplay(confusion_matrix = cm)\n",
    "disp.plot()\n",
    "plt.show()"
   ]
  },
  {
   "cell_type": "markdown",
   "id": "973b7bcc",
   "metadata": {},
   "source": [
    "<strong>Se obtiene un modelo un una presición de 76.4% para el conjunto de prueba y 75.3% para el conjunto de entrenamiento vs una linea base aleatoria de 50%<strong>"
   ]
  },
  {
   "cell_type": "code",
   "execution_count": 29,
   "id": "090e277d",
   "metadata": {},
   "outputs": [
    {
     "data": {
      "text/plain": [
       "['model.joblib']"
      ]
     },
     "execution_count": 29,
     "metadata": {},
     "output_type": "execute_result"
    }
   ],
   "source": [
    "import joblib\n",
    "joblib.dump(log_reg_1, \"model.joblib\")\n"
   ]
  },
  {
   "cell_type": "code",
   "execution_count": 30,
   "id": "55009269",
   "metadata": {},
   "outputs": [],
   "source": [
    "loaded_model = joblib.load(\"model.joblib\")"
   ]
  },
  {
   "cell_type": "code",
   "execution_count": 45,
   "id": "2901d437",
   "metadata": {},
   "outputs": [
    {
     "name": "stdout",
     "output_type": "stream",
     "text": [
      "Accuracy: 0.7631\n",
      "TPR: 0.8559\n",
      "FPR: 0.3354\n"
     ]
    }
   ],
   "source": [
    "# predict probabilities on the validation set\n",
    "y_prob = loaded_model.predict_proba(df_x_val)\n",
    "\n",
    "# predict class\n",
    "y_prob_c1 = y_prob[:, 1]\n",
    "th = best_th\n",
    "y_pred = np.zeros(len(y_prob_c1))\n",
    "for i in range(len(y_prob_c1)):\n",
    "    if (y_prob_c1[i] >= th):\n",
    "        y_pred[i] = 1\n",
    "\n",
    "#Evaluation on the training set\n",
    "cm = metrics.confusion_matrix(df_y_val,y_pred)\n",
    "TP = cm[1,1]\n",
    "TN = cm[0,0]\n",
    "FP = cm[0,1]\n",
    "FN = cm[1,0]\n",
    "TPR = TP/(TP+FN)\n",
    "FPR = FP/(FP+TN)\n",
    "acc = (TP+TN)/(TP+TN+FP+FN)\n",
    "print('Accuracy: %.4f' % acc)\n",
    "print('TPR: %.4f' % TPR)\n",
    "print('FPR: %.4f' % FPR)"
   ]
  },
  {
   "cell_type": "code",
   "execution_count": 46,
   "id": "a27304a1",
   "metadata": {},
   "outputs": [
    {
     "data": {
      "text/plain": [
       "array([1., 1., 0., ..., 0., 0., 1.])"
      ]
     },
     "execution_count": 46,
     "metadata": {},
     "output_type": "execute_result"
    }
   ],
   "source": [
    "y_pred"
   ]
  },
  {
   "cell_type": "code",
   "execution_count": 48,
   "id": "b720a011",
   "metadata": {
    "scrolled": true
   },
   "outputs": [
    {
     "data": {
      "text/html": [
       "<div>\n",
       "<style scoped>\n",
       "    .dataframe tbody tr th:only-of-type {\n",
       "        vertical-align: middle;\n",
       "    }\n",
       "\n",
       "    .dataframe tbody tr th {\n",
       "        vertical-align: top;\n",
       "    }\n",
       "\n",
       "    .dataframe thead th {\n",
       "        text-align: right;\n",
       "    }\n",
       "</style>\n",
       "<table border=\"1\" class=\"dataframe\">\n",
       "  <thead>\n",
       "    <tr style=\"text-align: right;\">\n",
       "      <th></th>\n",
       "      <th>RoomService</th>\n",
       "      <th>FoodCourt</th>\n",
       "      <th>ShoppingMall</th>\n",
       "      <th>Spa</th>\n",
       "    </tr>\n",
       "  </thead>\n",
       "  <tbody>\n",
       "    <tr>\n",
       "      <th>4984</th>\n",
       "      <td>0.0</td>\n",
       "      <td>0.0</td>\n",
       "      <td>0.0</td>\n",
       "      <td>0.0</td>\n",
       "    </tr>\n",
       "    <tr>\n",
       "      <th>6864</th>\n",
       "      <td>28.0</td>\n",
       "      <td>194.0</td>\n",
       "      <td>2.0</td>\n",
       "      <td>0.0</td>\n",
       "    </tr>\n",
       "    <tr>\n",
       "      <th>6919</th>\n",
       "      <td>0.0</td>\n",
       "      <td>115.0</td>\n",
       "      <td>0.0</td>\n",
       "      <td>1823.0</td>\n",
       "    </tr>\n",
       "    <tr>\n",
       "      <th>7137</th>\n",
       "      <td>0.0</td>\n",
       "      <td>21.0</td>\n",
       "      <td>0.0</td>\n",
       "      <td>1503.0</td>\n",
       "    </tr>\n",
       "    <tr>\n",
       "      <th>1162</th>\n",
       "      <td>0.0</td>\n",
       "      <td>0.0</td>\n",
       "      <td>863.0</td>\n",
       "      <td>33.0</td>\n",
       "    </tr>\n",
       "  </tbody>\n",
       "</table>\n",
       "</div>"
      ],
      "text/plain": [
       "      RoomService  FoodCourt  ShoppingMall     Spa\n",
       "4984          0.0        0.0           0.0     0.0\n",
       "6864         28.0      194.0           2.0     0.0\n",
       "6919          0.0      115.0           0.0  1823.0\n",
       "7137          0.0       21.0           0.0  1503.0\n",
       "1162          0.0        0.0         863.0    33.0"
      ]
     },
     "execution_count": 48,
     "metadata": {},
     "output_type": "execute_result"
    }
   ],
   "source": [
    "df_x_val.tail()"
   ]
  },
  {
   "cell_type": "code",
   "execution_count": 33,
   "id": "54d24dfe",
   "metadata": {},
   "outputs": [],
   "source": [
    "df_eda = pd.read_csv('train.csv')[['HomePlanet','Transported']]\n",
    "df_eda = df_eda.replace([True,False],[1,0])\n",
    "serie = df_eda.groupby(['HomePlanet']).sum()\n",
    "\n",
    "\n",
    "totalEarth = df_eda['HomePlanet'].str.contains('Earth').sum()\n",
    "totalTrueEarth = serie.at['Earth','Transported']\n",
    "totalEuropa = df_eda['HomePlanet'].str.contains('Europa').sum()\n",
    "totalTrueEuropa = serie.at['Europa','Transported']\n",
    "totalMars = df_eda['HomePlanet'].str.contains('Mars').sum()\n",
    "totalTrueMars = serie.at['Mars','Transported']\n",
    "totalFalseEarth = totalEarth-totalTrueEarth\n",
    "totalFalseEuropa = totalEuropa - totalTrueEuropa\n",
    "totalFalseMars = totalMars - totalTrueMars"
   ]
  },
  {
   "cell_type": "code",
   "execution_count": 34,
   "id": "3adfd0ee",
   "metadata": {},
   "outputs": [
    {
     "name": "stdout",
     "output_type": "stream",
     "text": [
      "1951 2651 1404 727 920 839\n"
     ]
    }
   ],
   "source": [
    "print( totalTrueEarth,totalFalseEarth,totalTrueEuropa,totalFalseEuropa,totalTrueMars, totalFalseMars)"
   ]
  }
 ],
 "metadata": {
  "kernelspec": {
   "display_name": "Python 3 (ipykernel)",
   "language": "python",
   "name": "python3"
  },
  "language_info": {
   "codemirror_mode": {
    "name": "ipython",
    "version": 3
   },
   "file_extension": ".py",
   "mimetype": "text/x-python",
   "name": "python",
   "nbconvert_exporter": "python",
   "pygments_lexer": "ipython3",
   "version": "3.9.12"
  }
 },
 "nbformat": 4,
 "nbformat_minor": 5
}
